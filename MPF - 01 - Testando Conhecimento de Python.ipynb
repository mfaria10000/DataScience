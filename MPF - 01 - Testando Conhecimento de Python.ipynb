{
 "cells": [
  {
   "cell_type": "code",
   "execution_count": null,
   "metadata": {
    "collapsed": true
   },
   "outputs": [],
   "source": [
    "#variable definition, data type and data type conversion\n",
    "print(\"Hello \" + \"o\" * 15 + \" World\")"
   ]
  },
  {
   "cell_type": "code",
   "execution_count": null,
   "metadata": {
    "collapsed": true
   },
   "outputs": [],
   "source": [
    "strVar1 = 'True'\n",
    "strVar2 = '100.0'\n",
    "print (strVar1)\n",
    "print (type(strVar1))\n",
    "print (strVar2)\n",
    "print (type(strVar2))\n",
    "\n",
    "intVar1 = 100\n",
    "print (intVar1)\n",
    "print (type(intVar1))\n",
    "intVar2 = '200'\n",
    "print (intVar2)\n",
    "print (type(intVar2))\n",
    "intVar2 = int(intVar2)\n",
    "intVar3 = int('200')\n",
    "print (intVar3)\n",
    "print (type(intVar3))"
   ]
  },
  {
   "cell_type": "code",
   "execution_count": null,
   "metadata": {
    "collapsed": true
   },
   "outputs": [],
   "source": [
    "print(intVar3 > intVar2)"
   ]
  },
  {
   "cell_type": "code",
   "execution_count": null,
   "metadata": {
    "collapsed": true
   },
   "outputs": [],
   "source": [
    "print (intVar2 == intVar3)"
   ]
  },
  {
   "cell_type": "code",
   "execution_count": null,
   "metadata": {
    "collapsed": true
   },
   "outputs": [],
   "source": [
    "print (intVar2 != strVar1)"
   ]
  },
  {
   "cell_type": "code",
   "execution_count": null,
   "metadata": {
    "collapsed": true
   },
   "outputs": [],
   "source": [
    "print (not intVar2 != strVar1)"
   ]
  },
  {
   "cell_type": "code",
   "execution_count": null,
   "metadata": {
    "collapsed": true
   },
   "outputs": [],
   "source": []
  },
  {
   "cell_type": "code",
   "execution_count": null,
   "metadata": {
    "collapsed": true
   },
   "outputs": [],
   "source": [
    "strVar2 = float(strVar2)\n",
    "print (type(strVar2))"
   ]
  },
  {
   "cell_type": "code",
   "execution_count": null,
   "metadata": {
    "collapsed": true
   },
   "outputs": [],
   "source": [
    "strVar1 = int(strVar2)\n",
    "print (type(strVar2))\n",
    "print (strVar1)"
   ]
  },
  {
   "cell_type": "code",
   "execution_count": null,
   "metadata": {
    "collapsed": true
   },
   "outputs": [],
   "source": [
    "strVar1 = bool(strVar1)\n",
    "print(strVar1)\n",
    "print(not strVar1)"
   ]
  },
  {
   "cell_type": "code",
   "execution_count": null,
   "metadata": {
    "collapsed": true
   },
   "outputs": [],
   "source": [
    "#logical operators\n",
    "if 2 != 3:\n",
    "    print ('is diferent')\n",
    "else:\n",
    "    print ('is equal')"
   ]
  },
  {
   "cell_type": "code",
   "execution_count": null,
   "metadata": {
    "collapsed": true
   },
   "outputs": [],
   "source": [
    "if 'a' == 'b':\n",
    "    print ('equal')\n",
    "else:\n",
    "    print ('not equal')"
   ]
  },
  {
   "cell_type": "code",
   "execution_count": null,
   "metadata": {
    "collapsed": true
   },
   "outputs": [],
   "source": [
    "#comparing data type\n",
    "a = True\n",
    "if type(a) == float:\n",
    "    print ('is float')\n",
    "elif type(a) == int:\n",
    "    print ('integer')\n",
    "elif type(a) == str:\n",
    "    print ('string')\n",
    "elif type(a) == bool:\n",
    "    print ('boolean')\n"
   ]
  },
  {
   "cell_type": "code",
   "execution_count": null,
   "metadata": {
    "collapsed": true
   },
   "outputs": [],
   "source": [
    "a = 25\n",
    "b = a % 2\n",
    "print (b)"
   ]
  },
  {
   "cell_type": "code",
   "execution_count": null,
   "metadata": {
    "collapsed": true
   },
   "outputs": [],
   "source": [
    "#starting with the built-in functios\n",
    "\n",
    "strVariable = 'Eu moro no Rio mas quero morar na Europa!'\n",
    "#imprime a string como um todo\n",
    "print (strVariable)"
   ]
  },
  {
   "cell_type": "code",
   "execution_count": null,
   "metadata": {
    "collapsed": true
   },
   "outputs": [],
   "source": [
    "#operação com vetores\n",
    "#returns the string as a vector\n",
    "strVariable[:]\n"
   ]
  },
  {
   "cell_type": "code",
   "execution_count": null,
   "metadata": {
    "collapsed": true
   },
   "outputs": [],
   "source": [
    "#returns the string backwords from back to front\n",
    "strVariable[::-1]"
   ]
  },
  {
   "cell_type": "code",
   "execution_count": null,
   "metadata": {
    "collapsed": true
   },
   "outputs": [],
   "source": [
    "#returns the string content starting from 0 to the 7th character\n",
    "strVariable[:7]"
   ]
  },
  {
   "cell_type": "code",
   "execution_count": null,
   "metadata": {
    "collapsed": true
   },
   "outputs": [],
   "source": [
    "#returns the string content starting from the 4th character to the end\n",
    "strVariable[4:]\n"
   ]
  },
  {
   "cell_type": "code",
   "execution_count": null,
   "metadata": {
    "collapsed": true
   },
   "outputs": [],
   "source": [
    "#splits the string by a character or a set of characters passed to the funcion - does not return the character\n",
    "strVariable.split('Rio')"
   ]
  },
  {
   "cell_type": "code",
   "execution_count": null,
   "metadata": {
    "collapsed": true
   },
   "outputs": [],
   "source": [
    "#converts the string in upper case\n",
    "strVariable.upper()"
   ]
  },
  {
   "cell_type": "code",
   "execution_count": null,
   "metadata": {
    "collapsed": true
   },
   "outputs": [],
   "source": [
    "#converts the string in lower case\n",
    "strVariable.lower()"
   ]
  },
  {
   "cell_type": "code",
   "execution_count": null,
   "metadata": {
    "collapsed": true
   },
   "outputs": [],
   "source": [
    "#verifies if a string ends with some passed on character\n",
    "strVariable.endswith('!')"
   ]
  },
  {
   "cell_type": "code",
   "execution_count": null,
   "metadata": {
    "collapsed": true
   },
   "outputs": [],
   "source": [
    "#looks for a specific string on a variable\n",
    "strVariable.find('Rio')"
   ]
  },
  {
   "cell_type": "code",
   "execution_count": null,
   "metadata": {
    "collapsed": true
   },
   "outputs": [],
   "source": [
    "#utilizing index and find\n",
    "expr = '''Dados de acesso do cliente Universidade dos Dados\n",
    "01/02/2017 \"33.378.00\" \n",
    "02/02/2017 \"6.088.00\" \n",
    "03/02/2017 \"645.00\" \n",
    "04/02/2017 \"10.876.00\"'''\n",
    "#firs trial with dates\n",
    "intLoc = expr.find('01/02/2017')\n",
    "intLocEnd = expr.find('02/02/2017')\n",
    "print (intLoc)\n",
    "print(intLocEnd)\n",
    "intLoc = intLoc + 12\n",
    "intLocEnd = intLocEnd - 3 \n",
    "strResult = expr[intLoc:intLocEnd]\n",
    "print(strResult)\n",
    "\n",
    "#second trial with the first occurance of the characters\n",
    "intLoc = expr.find('\"')\n",
    "IntLocEnd = expr.find('\"',intLoc + 1)\n",
    "expr[intLoc+1:intLocEnd]"
   ]
  },
  {
   "cell_type": "code",
   "execution_count": null,
   "metadata": {
    "collapsed": true
   },
   "outputs": [],
   "source": [
    "#working with functions and methods\n",
    "def soma(a,b):\n",
    "    return (a + b)\n"
   ]
  },
  {
   "cell_type": "code",
   "execution_count": null,
   "metadata": {
    "collapsed": true
   },
   "outputs": [],
   "source": [
    "print(soma(10,20))"
   ]
  },
  {
   "cell_type": "code",
   "execution_count": null,
   "metadata": {
    "collapsed": true
   },
   "outputs": [],
   "source": [
    "def verificacao(a,b):\n",
    "    if a > b:\n",
    "        return a\n",
    "    elif b > a:\n",
    "        return b\n",
    "    elif a == b:\n",
    "        return 'equals'\n",
    "    \n",
    "        "
   ]
  },
  {
   "cell_type": "code",
   "execution_count": null,
   "metadata": {
    "collapsed": true
   },
   "outputs": [],
   "source": [
    "verificacao(10,20)"
   ]
  },
  {
   "cell_type": "code",
   "execution_count": null,
   "metadata": {
    "collapsed": true
   },
   "outputs": [],
   "source": [
    "verificacao(20,20)"
   ]
  },
  {
   "cell_type": "code",
   "execution_count": null,
   "metadata": {
    "collapsed": true
   },
   "outputs": [],
   "source": [
    "verificacao(30,10)"
   ]
  },
  {
   "cell_type": "code",
   "execution_count": null,
   "metadata": {
    "collapsed": true
   },
   "outputs": [],
   "source": [
    "def cocat(a,b):\n",
    "    return a + ' ' + b"
   ]
  },
  {
   "cell_type": "code",
   "execution_count": null,
   "metadata": {
    "collapsed": true
   },
   "outputs": [],
   "source": [
    "print(cocat('eu', 'sou foda'))"
   ]
  },
  {
   "cell_type": "code",
   "execution_count": null,
   "metadata": {
    "collapsed": true
   },
   "outputs": [],
   "source": [
    "def verificaParImpar(x):\n",
    "    # the character % returns the module(remainder) of the division by two\n",
    "    intRes = x % 2\n",
    "    if intRes == 0:\n",
    "        return 'par'\n",
    "    else:\n",
    "        return 'impar'"
   ]
  },
  {
   "cell_type": "code",
   "execution_count": null,
   "metadata": {
    "collapsed": true
   },
   "outputs": [],
   "source": [
    "verificaParImpar(10)\n",
    "                 "
   ]
  },
  {
   "cell_type": "code",
   "execution_count": null,
   "metadata": {
    "collapsed": true
   },
   "outputs": [],
   "source": [
    "#learnning the scope of variables\n",
    "numero = 10\n",
    "\n",
    "def potNum(numero,pot):\n",
    "    return numero ** pot"
   ]
  },
  {
   "cell_type": "code",
   "execution_count": null,
   "metadata": {
    "collapsed": true
   },
   "outputs": [],
   "source": [
    "print(potNum(numero,2))\n",
    "\n",
    "print(numero)"
   ]
  },
  {
   "cell_type": "code",
   "execution_count": null,
   "metadata": {
    "collapsed": true
   },
   "outputs": [],
   "source": [
    "#testing aligned procedures\n",
    "def maiorNum(a,b):\n",
    "    \n",
    "    if a > b:\n",
    "        return a\n",
    "    elif b > a:\n",
    "        return b\n",
    "    else:\n",
    "        return 0"
   ]
  },
  {
   "cell_type": "code",
   "execution_count": null,
   "metadata": {
    "collapsed": true
   },
   "outputs": [],
   "source": [
    "def returnMaiorNum(a,b,c):\n",
    "    \n",
    "    if a > b and a > c:\n",
    "        return a\n",
    "    elif b > a and b > c:\n",
    "        return b\n",
    "    elif c > a and c > b:\n",
    "        return c\n",
    "\n",
    "    "
   ]
  },
  {
   "cell_type": "code",
   "execution_count": null,
   "metadata": {
    "collapsed": true
   },
   "outputs": [],
   "source": [
    "returnMaiorNum( 16,14,13.5)"
   ]
  },
  {
   "cell_type": "code",
   "execution_count": null,
   "metadata": {
    "collapsed": true
   },
   "outputs": [],
   "source": [
    "#learnning how to work with lists\n",
    "mundiais = ['Brasil',72,76,80,84,2018]"
   ]
  },
  {
   "cell_type": "code",
   "execution_count": null,
   "metadata": {
    "collapsed": true
   },
   "outputs": [],
   "source": [
    "print(mundiais)\n"
   ]
  },
  {
   "cell_type": "code",
   "execution_count": null,
   "metadata": {
    "collapsed": true
   },
   "outputs": [],
   "source": [
    "pais = mundiais[0]\n",
    "print(pais)\n",
    "print (mundiais[1])\n",
    "print (mundiais[2])\n",
    "print (mundiais[3])\n",
    "print (mundiais[4])\n",
    "print (mundiais[5])"
   ]
  },
  {
   "cell_type": "code",
   "execution_count": null,
   "metadata": {
    "collapsed": true
   },
   "outputs": [],
   "source": [
    "mundiais[0] = 'Alemanha'\n",
    "print (mundiais[0])"
   ]
  },
  {
   "cell_type": "code",
   "execution_count": null,
   "metadata": {
    "collapsed": true
   },
   "outputs": [],
   "source": [
    "mundiais"
   ]
  },
  {
   "cell_type": "code",
   "execution_count": null,
   "metadata": {
    "collapsed": true
   },
   "outputs": [],
   "source": [
    "mundiais.append('2014')\n",
    "print (mundiais)"
   ]
  },
  {
   "cell_type": "code",
   "execution_count": null,
   "metadata": {
    "collapsed": true
   },
   "outputs": [],
   "source": [
    "mundiais.remove('2014')\n",
    "mundiais"
   ]
  },
  {
   "cell_type": "code",
   "execution_count": null,
   "metadata": {
    "collapsed": true
   },
   "outputs": [],
   "source": [
    "mundiais.extend([2014,2015,2016,2017,2019])\n",
    "mundiais"
   ]
  },
  {
   "cell_type": "code",
   "execution_count": null,
   "metadata": {
    "collapsed": true
   },
   "outputs": [],
   "source": [
    "mundiais.remove(2018)\n",
    "mundiais"
   ]
  },
  {
   "cell_type": "code",
   "execution_count": null,
   "metadata": {
    "collapsed": true
   },
   "outputs": [],
   "source": [
    "#aligned lists\n",
    "arrMundiais = (['Brasil', 98,52, 99, 2018],['Alemanha', 54,36,78,65])"
   ]
  },
  {
   "cell_type": "code",
   "execution_count": null,
   "metadata": {
    "collapsed": true
   },
   "outputs": [],
   "source": [
    "arrMundiais"
   ]
  },
  {
   "cell_type": "code",
   "execution_count": null,
   "metadata": {
    "collapsed": true
   },
   "outputs": [],
   "source": [
    "print(arrMundiais[0][3])\n",
    "print(arrMundiais[0][2])"
   ]
  },
  {
   "cell_type": "code",
   "execution_count": null,
   "metadata": {
    "collapsed": true
   },
   "outputs": [],
   "source": [
    "#concatenating lists\n",
    "a = ['Brasil', 44,56,77,98]\n",
    "b = ['Alemanha', 56,79,84]\n",
    "lstArry = a + b\n",
    "print(lstArry)"
   ]
  },
  {
   "cell_type": "code",
   "execution_count": null,
   "metadata": {
    "collapsed": true
   },
   "outputs": [],
   "source": [
    "#verifying if an element is in the list\n",
    "'Brasil' in lstArry"
   ]
  },
  {
   "cell_type": "code",
   "execution_count": null,
   "metadata": {
    "collapsed": true
   },
   "outputs": [],
   "source": [
    "if 'Brasil' in lstArry:\n",
    "    print(lstArry.index('Brasil'))\n",
    "    a = lstArry.index('Brasil')\n",
    "    b = lstArry.index('Alemanha')\n",
    "    print(lstArry[a + 1:b])\n",
    "else:\n",
    "    print('Is not in the list')"
   ]
  },
  {
   "cell_type": "code",
   "execution_count": null,
   "metadata": {
    "collapsed": true
   },
   "outputs": [],
   "source": [
    "#other built-in funcions\n",
    "len(lstArry)"
   ]
  },
  {
   "cell_type": "code",
   "execution_count": null,
   "metadata": {
    "collapsed": true
   },
   "outputs": [],
   "source": [
    "max(lstArry)"
   ]
  },
  {
   "cell_type": "code",
   "execution_count": null,
   "metadata": {
    "collapsed": true
   },
   "outputs": [],
   "source": [
    "numeros = [12,13,14,15,16]\n",
    "palavras = ['um','dois','tres','quatro']\n",
    "print(max(palavras))\n",
    "print (max(numeros))\n",
    "print(min(palavras))\n",
    "print (min(numeros))"
   ]
  },
  {
   "cell_type": "code",
   "execution_count": null,
   "metadata": {
    "collapsed": true
   },
   "outputs": [],
   "source": [
    "numeros.reverse()\n",
    "print(numeros)"
   ]
  },
  {
   "cell_type": "code",
   "execution_count": null,
   "metadata": {
    "collapsed": true
   },
   "outputs": [],
   "source": [
    "#reverts potionally\n",
    "palavras.reverse()\n",
    "print(palavras)"
   ]
  },
  {
   "cell_type": "code",
   "execution_count": null,
   "metadata": {
    "collapsed": true
   },
   "outputs": [],
   "source": [
    "palavras.sort()\n",
    "print(palavras)"
   ]
  },
  {
   "cell_type": "code",
   "execution_count": null,
   "metadata": {
    "collapsed": true
   },
   "outputs": [],
   "source": [
    "numeros.sort()\n",
    "print(numeros)"
   ]
  },
  {
   "cell_type": "code",
   "execution_count": null,
   "metadata": {
    "collapsed": true
   },
   "outputs": [],
   "source": [
    "palavras.append('Macaco')\n",
    "print(palavras)"
   ]
  },
  {
   "cell_type": "code",
   "execution_count": null,
   "metadata": {
    "collapsed": true
   },
   "outputs": [],
   "source": [
    "palavras.count('Macaco')"
   ]
  },
  {
   "cell_type": "code",
   "execution_count": null,
   "metadata": {
    "collapsed": true
   },
   "outputs": [],
   "source": [
    "#removes the last element from the list and returns it\n",
    "palavras.pop()\n"
   ]
  },
  {
   "cell_type": "code",
   "execution_count": null,
   "metadata": {
    "collapsed": true
   },
   "outputs": [],
   "source": [
    "print(palavras)"
   ]
  },
  {
   "cell_type": "code",
   "execution_count": null,
   "metadata": {
    "collapsed": true
   },
   "outputs": [],
   "source": [
    "palavras.pop(2)"
   ]
  },
  {
   "cell_type": "code",
   "execution_count": null,
   "metadata": {
    "collapsed": true
   },
   "outputs": [],
   "source": [
    "print(palavras)"
   ]
  },
  {
   "cell_type": "code",
   "execution_count": null,
   "metadata": {
    "collapsed": true
   },
   "outputs": [],
   "source": [
    "#working with sets\n",
    "conjunto = set()\n"
   ]
  },
  {
   "cell_type": "code",
   "execution_count": null,
   "metadata": {
    "collapsed": true
   },
   "outputs": [],
   "source": [
    "conjunto.add('Java')\n",
    "conjunto.add('Python')\n",
    "conjunto.add('R')"
   ]
  },
  {
   "cell_type": "code",
   "execution_count": null,
   "metadata": {
    "collapsed": true
   },
   "outputs": [],
   "source": [
    "print(conjunto)"
   ]
  },
  {
   "cell_type": "code",
   "execution_count": null,
   "metadata": {
    "collapsed": true
   },
   "outputs": [],
   "source": [
    "engineers = set(['clara','maria','jorge','paulo'])\n",
    "programmers = set(['maria','sam','jack','paulo'])\n",
    "managers = set(['maria','sam','antonio','fred'])"
   ]
  },
  {
   "cell_type": "code",
   "execution_count": null,
   "metadata": {
    "collapsed": true
   },
   "outputs": [],
   "source": [
    "print(engineers)\n",
    "print(programmers)\n",
    "print(managers)"
   ]
  },
  {
   "cell_type": "code",
   "execution_count": null,
   "metadata": {
    "collapsed": true
   },
   "outputs": [],
   "source": [
    "print(managers,programmers,engineers)"
   ]
  },
  {
   "cell_type": "code",
   "execution_count": null,
   "metadata": {
    "collapsed": true
   },
   "outputs": [],
   "source": [
    "#union of sets\n",
    "setUnion = managers | programmers | engineers\n",
    "print(setUnion)\n"
   ]
  },
  {
   "cell_type": "code",
   "execution_count": null,
   "metadata": {
    "collapsed": true
   },
   "outputs": [],
   "source": [
    "#intersection\n",
    "print(managers & engineers)\n",
    "print (managers & engineers & programmers)\n",
    "print(programmers & engineers)"
   ]
  },
  {
   "cell_type": "code",
   "execution_count": null,
   "metadata": {
    "collapsed": true
   },
   "outputs": [],
   "source": [
    "#diference\n",
    "engineers = set(['clara','maria','jorge','paulo'])\n",
    "programmers = set(['maria','sam','jack','paulo'])\n",
    "managers = set(['maria','sam','antonio','fred'])\n",
    "\n",
    "a = (managers - engineers) - programmers\n",
    "a"
   ]
  },
  {
   "cell_type": "code",
   "execution_count": null,
   "metadata": {
    "collapsed": true
   },
   "outputs": [],
   "source": [
    "#working with while and for loops\n",
    "\n",
    "contador = 0\n",
    "\n",
    "while contador < 15:\n",
    "    print(contador)\n",
    "    contador += 1"
   ]
  },
  {
   "cell_type": "code",
   "execution_count": null,
   "metadata": {
    "collapsed": true
   },
   "outputs": [],
   "source": [
    "list = []\n",
    "print(list)"
   ]
  },
  {
   "cell_type": "code",
   "execution_count": null,
   "metadata": {
    "collapsed": true
   },
   "outputs": [],
   "source": [
    "#percorrendo lista a itens de itens numa lista\n",
    "list = ['Python','R','Machine Learnning','Big Data','Data Science']\n",
    "for variable in list:\n",
    "    print(variable)"
   ]
  },
  {
   "cell_type": "code",
   "execution_count": null,
   "metadata": {
    "collapsed": true
   },
   "outputs": [],
   "source": [
    "#percorrendo uma palavra letra por letra\n",
    "word = 'Machine Leannning'\n",
    "for i in word:\n",
    "    print(i)"
   ]
  },
  {
   "cell_type": "code",
   "execution_count": null,
   "metadata": {
    "collapsed": true
   },
   "outputs": [],
   "source": [
    "print(list)"
   ]
  },
  {
   "cell_type": "code",
   "execution_count": null,
   "metadata": {
    "collapsed": true
   },
   "outputs": [],
   "source": [
    "lst = [1,2,3,4,5,6,7,8,9]\n",
    "\n",
    "for i in lst:\n",
    "    if i % 2 == 0:\n",
    "        print(i)"
   ]
  },
  {
   "cell_type": "code",
   "execution_count": null,
   "metadata": {
    "collapsed": true
   },
   "outputs": [],
   "source": [
    "#coping the items from one list to the other\n",
    "lstRJ = ['flamengo','Fluminense','Botafogo']\n",
    "lstSP = ['Palmeiras','Santos','São Paulo']\n",
    "for time in lstRJ:\n",
    "    lstSP.append(time)\n",
    "else:\n",
    "    print(lstSP)\n"
   ]
  },
  {
   "cell_type": "code",
   "execution_count": null,
   "metadata": {
    "collapsed": true
   },
   "outputs": [],
   "source": [
    "#useing range in a for loop\n",
    "\n",
    "for i in range(1,10):\n",
    "    print(i)"
   ]
  },
  {
   "cell_type": "code",
   "execution_count": null,
   "metadata": {
    "collapsed": true
   },
   "outputs": [],
   "source": [
    "for i in (1,1000):\n",
    "    print(i)"
   ]
  },
  {
   "cell_type": "code",
   "execution_count": null,
   "metadata": {
    "collapsed": true
   },
   "outputs": [],
   "source": [
    "print (type(i))"
   ]
  },
  {
   "cell_type": "code",
   "execution_count": null,
   "metadata": {
    "collapsed": true
   },
   "outputs": [],
   "source": [
    "for i in range(0,30,2):\n",
    "    print (i)"
   ]
  },
  {
   "cell_type": "code",
   "execution_count": null,
   "metadata": {
    "collapsed": true
   },
   "outputs": [],
   "source": [
    "#useing while with pass and break to control the loop\n",
    "\n",
    "cnt = 0 \n",
    "\n",
    "while True:\n",
    "    print('Value of cnt is:' + str(cnt))\n",
    "    cnt += 1\n",
    "    if cnt < 10:\n",
    "        pass\n",
    "    else:\n",
    "        break\n",
    "    \n",
    "    "
   ]
  },
  {
   "cell_type": "code",
   "execution_count": null,
   "metadata": {
    "collapsed": true
   },
   "outputs": [],
   "source": [
    "#while and for toguether to populate a list\n",
    "\n",
    "lstParent = []\n",
    "\n",
    "for i in range(1,10):\n",
    "    \n",
    "    j = 0\n",
    "    lstChild = []\n",
    "    lstName = 'lst' + str(i)\n",
    "    print(lstName)\n",
    "    lstChild.append(lstName)\n",
    "    \n",
    "    while j < 10:\n",
    "        lstChild.append(j + i)\n",
    "        j += 1\n",
    "    else:\n",
    "        lstParent.append(lstChild)\n",
    "\n",
    "print(lstParent) "
   ]
  },
  {
   "cell_type": "code",
   "execution_count": null,
   "metadata": {
    "collapsed": true
   },
   "outputs": [],
   "source": [
    "#working with tuples - they are fixed and can not be changes once created\n",
    "\n",
    "tplRio =(2345,4509)\n",
    "tplSP = (4354,6754)\n"
   ]
  },
  {
   "cell_type": "code",
   "execution_count": null,
   "metadata": {
    "collapsed": true
   },
   "outputs": [],
   "source": [
    "print(tplRio)\n",
    "print(tplSP)"
   ]
  },
  {
   "cell_type": "code",
   "execution_count": null,
   "metadata": {
    "collapsed": true
   },
   "outputs": [],
   "source": [
    "tplRio[0]\n"
   ]
  },
  {
   "cell_type": "code",
   "execution_count": null,
   "metadata": {
    "collapsed": true
   },
   "outputs": [],
   "source": [
    "tplSP[1]"
   ]
  },
  {
   "cell_type": "code",
   "execution_count": null,
   "metadata": {
    "collapsed": true
   },
   "outputs": [],
   "source": [
    "#decompacting tuples\n",
    "dimensions = (12,34,67)\n",
    "dimHight,dimWith,dimDepth = dimensions\n",
    "print('The dimentions are {} x {} x {}'.format(dimHight,dimWith,dimDepth))"
   ]
  },
  {
   "cell_type": "code",
   "execution_count": null,
   "metadata": {
    "collapsed": true
   },
   "outputs": [],
   "source": [
    "del tplRio\n",
    "tplRio = (3454,8976)\n",
    "tplRio"
   ]
  },
  {
   "cell_type": "code",
   "execution_count": null,
   "metadata": {
    "collapsed": true
   },
   "outputs": [],
   "source": [
    "def box (varHeight, varWidth, varChar):\n",
    "    \n",
    "    print (varChar * varWidth)\n",
    "    \n",
    "    for i in range(varHeight-2):\n",
    "        print(varChar + ' ' * (varWidth-2) + varChar)\n",
    "    \n",
    "    print(varChar * varWidth)"
   ]
  },
  {
   "cell_type": "code",
   "execution_count": null,
   "metadata": {
    "collapsed": true
   },
   "outputs": [],
   "source": [
    "box(5,100,'&')"
   ]
  },
  {
   "cell_type": "code",
   "execution_count": null,
   "metadata": {
    "collapsed": true
   },
   "outputs": [],
   "source": [
    "#working with tuples\n",
    "tplRio = (19878,98767)\n",
    "tplSP = (34543,345432)\n",
    "print (tplRio)\n",
    "print(tplRio[1])\n",
    "tplSP[0]\n"
   ]
  },
  {
   "cell_type": "code",
   "execution_count": null,
   "metadata": {
    "collapsed": true
   },
   "outputs": [],
   "source": [
    "#decompácting tuples\n",
    "dimensions = 10, 50, 45\n",
    "width, height, depth = dimensions\n",
    "print('The dimensions of my house are width = {} X height = {} X depth = {} '.format(width, height, depth))"
   ]
  },
  {
   "cell_type": "code",
   "execution_count": null,
   "metadata": {
    "collapsed": true
   },
   "outputs": [],
   "source": [
    "#Working with dictionaries\n",
    "gunter = {'category':'worrior','strenth':100,'life':10,'experience':50,'cure':25}\n",
    "shalur = {'category':'elf','strenth':60,'life':40,'experience':80,'cure':15}\n",
    "eldor = {'category':'duorf','strenth':45,'life':70,'experience':70,'cure':35}"
   ]
  },
  {
   "cell_type": "code",
   "execution_count": null,
   "metadata": {
    "collapsed": true
   },
   "outputs": [],
   "source": [
    "print(gunter)\n",
    "print (shalur)\n",
    "print(eldor)"
   ]
  },
  {
   "cell_type": "code",
   "execution_count": null,
   "metadata": {
    "collapsed": true
   },
   "outputs": [],
   "source": [
    "#adding lists to the dictionaries\n",
    "gunter['weapons'] = ['knife','sword']\n",
    "shalur['weapons'] = ['fire','ice']\n",
    "eldor['weapons'] = ['cannon','granade']\n",
    "print(gunter)\n",
    "print (shalur)\n",
    "print(eldor)"
   ]
  },
  {
   "cell_type": "code",
   "execution_count": null,
   "metadata": {
    "collapsed": true
   },
   "outputs": [],
   "source": [
    "gunter['weapons'][0]"
   ]
  },
  {
   "cell_type": "code",
   "execution_count": null,
   "metadata": {
    "collapsed": true
   },
   "outputs": [],
   "source": [
    "eldor['weapons'].append ('darts')\n",
    "eldor['weapons']"
   ]
  },
  {
   "cell_type": "code",
   "execution_count": null,
   "metadata": {
    "collapsed": true
   },
   "outputs": [],
   "source": [
    "eldor.items()"
   ]
  },
  {
   "cell_type": "code",
   "execution_count": null,
   "metadata": {
    "collapsed": true
   },
   "outputs": [],
   "source": [
    "print(list(eldor.items()))"
   ]
  },
  {
   "cell_type": "code",
   "execution_count": null,
   "metadata": {
    "collapsed": true
   },
   "outputs": [],
   "source": [
    "print(gunter.keys())\n",
    "print(gunter.values())"
   ]
  },
  {
   "cell_type": "code",
   "execution_count": null,
   "metadata": {
    "collapsed": true
   },
   "outputs": [],
   "source": [
    "#print items of a dictionary as list so they can be accessed with indexes\n",
    "lstTemp = list(eldor.items())\n",
    "print(lstTemp[0])\n",
    "print(lstTemp[1])\n",
    "print(lstTemp[2])\n"
   ]
  },
  {
   "cell_type": "code",
   "execution_count": null,
   "metadata": {
    "collapsed": true
   },
   "outputs": [],
   "source": [
    "for var in gunter:\n",
    "    print('key = ' + var)"
   ]
  },
  {
   "cell_type": "code",
   "execution_count": null,
   "metadata": {
    "collapsed": true
   },
   "outputs": [],
   "source": [
    "for (key,value) in eldor.items():\n",
    "    print('key = ', key,' : value = ', value)"
   ]
  },
  {
   "cell_type": "code",
   "execution_count": null,
   "metadata": {
    "collapsed": true
   },
   "outputs": [],
   "source": [
    "# useing the in keyword with dictionaries\n",
    "\n",
    "inventory  = {'banana':354,'pinaple':435,'strawberries':987}\n",
    "\n",
    "print('banana' in inventory)\n",
    "print('aple' in inventory)\n",
    "\n",
    "if 'banana' in inventory:\n",
    "    print (inventory['banana'])\n",
    "else:\n",
    "    print('not on inventory')"
   ]
  },
  {
   "cell_type": "code",
   "execution_count": null,
   "metadata": {
    "collapsed": true
   },
   "outputs": [],
   "source": [
    "#method get in dictionaries\n",
    "\n",
    "print(inventory.get('watermellon'))\n",
    "print(inventory.get('kiwi', 'We dont have kiwi!'))"
   ]
  },
  {
   "cell_type": "code",
   "execution_count": null,
   "metadata": {
    "collapsed": true
   },
   "outputs": [],
   "source": [
    "#adding key value pais to a dictionary\n",
    "inventory['melancia'] = 345\n",
    "print(inventory['melancia'])"
   ]
  },
  {
   "cell_type": "code",
   "execution_count": null,
   "metadata": {
    "collapsed": true
   },
   "outputs": [],
   "source": [
    "#copying dictionaries\n",
    "tend123 = inventory.copy()"
   ]
  },
  {
   "cell_type": "code",
   "execution_count": null,
   "metadata": {
    "collapsed": true
   },
   "outputs": [],
   "source": [
    "del inventory['melancia']"
   ]
  },
  {
   "cell_type": "code",
   "execution_count": null,
   "metadata": {
    "collapsed": true
   },
   "outputs": [],
   "source": [
    "print(tend123)\n",
    "print(inventory)"
   ]
  },
  {
   "cell_type": "code",
   "execution_count": null,
   "metadata": {
    "collapsed": true
   },
   "outputs": [],
   "source": [
    "dicNums = {'one': 1, 'two':2, 'three':3}\n",
    "\n",
    "dicNums['dois'] = dicNums.pop('two')\n",
    "\n",
    "print(dicNums)"
   ]
  },
  {
   "cell_type": "code",
   "execution_count": null,
   "metadata": {
    "collapsed": true
   },
   "outputs": [],
   "source": [
    "# learnning how to manipulate files\n",
    "#openning a read only file and reading as string the entire file\n",
    "fReadOnly = open('C:\\Data Science\\Projetos\\Data Science Projects\\Arquivos\\ca-500.csv', 'r')"
   ]
  },
  {
   "cell_type": "code",
   "execution_count": null,
   "metadata": {
    "collapsed": true
   },
   "outputs": [],
   "source": [
    " fileTemp = fReadOnly.read()"
   ]
  },
  {
   "cell_type": "code",
   "execution_count": null,
   "metadata": {
    "collapsed": true
   },
   "outputs": [],
   "source": [
    "type(fileTemp)"
   ]
  },
  {
   "cell_type": "code",
   "execution_count": null,
   "metadata": {
    "collapsed": true
   },
   "outputs": [],
   "source": [
    "print(fileTemp)"
   ]
  },
  {
   "cell_type": "code",
   "execution_count": null,
   "metadata": {
    "collapsed": true
   },
   "outputs": [],
   "source": [
    "fReadOnly.close()"
   ]
  },
  {
   "cell_type": "code",
   "execution_count": null,
   "metadata": {
    "collapsed": true
   },
   "outputs": [],
   "source": [
    "#now we are going to open a file and read as lines at once\n",
    "f = open('C:\\Data Science\\Projetos\\Data Science Projects\\Arquivos\\ca-500.csv', 'r')"
   ]
  },
  {
   "cell_type": "code",
   "execution_count": null,
   "metadata": {
    "collapsed": true
   },
   "outputs": [],
   "source": [
    "filetemp = f.readlines()"
   ]
  },
  {
   "cell_type": "code",
   "execution_count": null,
   "metadata": {
    "collapsed": true
   },
   "outputs": [],
   "source": [
    "type(f)\n"
   ]
  },
  {
   "cell_type": "code",
   "execution_count": null,
   "metadata": {
    "collapsed": true
   },
   "outputs": [],
   "source": [
    "print(filetemp)"
   ]
  },
  {
   "cell_type": "code",
   "execution_count": null,
   "metadata": {
    "collapsed": true
   },
   "outputs": [],
   "source": [
    "f.close()"
   ]
  },
  {
   "cell_type": "code",
   "execution_count": null,
   "metadata": {
    "collapsed": true
   },
   "outputs": [],
   "source": [
    "#Now we are going to create and write to a new file\n",
    "y = open('teste.csv', 'w')"
   ]
  },
  {
   "cell_type": "code",
   "execution_count": null,
   "metadata": {
    "collapsed": true
   },
   "outputs": [],
   "source": [
    "y.write('We can write anything we want')"
   ]
  },
  {
   "cell_type": "code",
   "execution_count": null,
   "metadata": {
    "collapsed": true
   },
   "outputs": [],
   "source": [
    "y.close()"
   ]
  },
  {
   "cell_type": "code",
   "execution_count": null,
   "metadata": {
    "collapsed": true
   },
   "outputs": [],
   "source": [
    "#now we are going to read the ca-500 with position pointers\n",
    "fileY = open('C:\\Data Science\\Projetos\\Data Science Projects\\Arquivos\\ca-500.csv')\n",
    "print(fileY.read(2))\n",
    "print(fileY.read(1))"
   ]
  },
  {
   "cell_type": "code",
   "execution_count": null,
   "metadata": {
    "collapsed": true
   },
   "outputs": [],
   "source": [
    "fileY.close()"
   ]
  },
  {
   "cell_type": "code",
   "execution_count": null,
   "metadata": {
    "collapsed": true
   },
   "outputs": [],
   "source": [
    "#now we are going to read the file and read each line and append them to a list removeing the \n",
    "#spaces from the beginning and the end of the lines\n",
    "lst = ['palavra1', 'palavra2']\n",
    "with open('C:\\Data Science\\Projetos\\Data Science Projects\\Arquivos\\linhas.csv') as fTemp:\n",
    "    for line in fTemp:\n",
    "        lst.append(line.strip())\n",
    "        print(lst)"
   ]
  },
  {
   "cell_type": "code",
   "execution_count": null,
   "metadata": {
    "collapsed": true
   },
   "outputs": [],
   "source": [
    "yTemp = open('C:\\Data Science\\Projetos\\Data Science Projects\\Arquivos\\linhas.csv')\n",
    "print(yTemp.read())"
   ]
  },
  {
   "cell_type": "code",
   "execution_count": null,
   "metadata": {
    "collapsed": true
   },
   "outputs": [],
   "source": [
    "fTemp.close()\n",
    "yTemp.close()"
   ]
  },
  {
   "cell_type": "code",
   "execution_count": null,
   "metadata": {
    "collapsed": true
   },
   "outputs": [],
   "source": [
    "#creating a python lybrary, importing and calling it\n",
    "#I crated a python library by hand in notepad++ and added a function calc_media\n",
    "import average as avg\n",
    "lst = [21323,545435,345453,66565,1]\n",
    "avg.calc_media(lst)"
   ]
  },
  {
   "cell_type": "code",
   "execution_count": null,
   "metadata": {
    "collapsed": true
   },
   "outputs": [],
   "source": [
    "#if you want to import only one funcion from the library\n",
    "from average import calc_media \n",
    "lst = [10,45,90]\n",
    "calc_media(lst)"
   ]
  },
  {
   "cell_type": "code",
   "execution_count": null,
   "metadata": {
    "collapsed": true
   },
   "outputs": [],
   "source": [
    "#now we are going to start working with pandas\n",
    "#read a text files as a table\n",
    "import pandas as pd\n",
    "file_sandwiches = pd.read_table('Sanduiches.txt')\n",
    "file_sandwiches.head()\n"
   ]
  },
  {
   "cell_type": "code",
   "execution_count": null,
   "metadata": {
    "collapsed": true
   },
   "outputs": [],
   "source": [
    "#reading a file as a table, splitting by the separator |, without headers and creating a column name\n",
    "lst_headers = ['id','age', 'sex','profession','zipcode']\n",
    "file_users = pd.read_table('Users.txt', sep='|', header=None, names=lst_headers)\n",
    "file_users.head()"
   ]
  },
  {
   "cell_type": "code",
   "execution_count": null,
   "metadata": {
    "collapsed": true
   },
   "outputs": [],
   "source": [
    "#reading comma separeted values files\n",
    "file_ufo = pd.read_csv('ufo.csv')\n",
    "file_ufo.head()"
   ]
  },
  {
   "cell_type": "code",
   "execution_count": null,
   "metadata": {
    "collapsed": true
   },
   "outputs": [],
   "source": [
    "#reading files with fixed length columns\n",
    "file_fixed_lenth_columns = pd.read_fwf('LarguraFixa.txt')\n",
    "file_fixed_lenth_columns.head()"
   ]
  },
  {
   "cell_type": "code",
   "execution_count": null,
   "metadata": {
    "collapsed": true
   },
   "outputs": [],
   "source": [
    "#reading files with spaces\n",
    "regEx = '\\s+'\n",
    "file_sepSpace = pd.read_csv('SepEspaco.txt',sep=regEx)\n",
    "file_sepSpace.head()"
   ]
  },
  {
   "cell_type": "code",
   "execution_count": null,
   "metadata": {
    "collapsed": true
   },
   "outputs": [],
   "source": [
    "#now we start working with the file system and paths\n",
    "file_test = open('C:\\\\Data Science Projects\\\\JupyterNB\\\\test.txt','w')\n",
    "file_test.write('Alguma coisa escrita no arquivo')\n",
    "file_test.close()"
   ]
  },
  {
   "cell_type": "code",
   "execution_count": null,
   "metadata": {
    "collapsed": true
   },
   "outputs": [],
   "source": [
    "#if we use the write again it will write over the data in the file\n",
    "file_test = open('C:\\\\Data Science Projects\\\\JupyterNB\\\\test.txt','w')\n",
    "file_test.write('You must use append not write')\n",
    "file_test.close()erwriting and we used \\n to insert an enter key line break\n",
    "file_test = open('Chou overwriting and we used \\n to insert an enter key line break\n",
    "file_test = open('C:\\\\Data Science Projects\\hou overwriting and we used \\n to insert an enter key line break\n",
    "file_test = open('C:\\\\Data Science Projects\\\\JupyterNB\\JupyterNB"
   ]
  },
  {
   "cell_type": "code",
   "execution_count": null,
   "metadata": {
    "collapsed": true
   },
   "outputs": [],
   "source": [
    "#here we used the append to add new text withou overwriting and we used \\n to insert an enter key line break\n",
    "file_test = open('C:\\\\Data Science Projects\\\\JupyterNB\\\\test.txt','a')\n",
    "file_test.write('\\nNow we used append not write')\n",
    "file_test.close()"
   ]
  },
  {
   "cell_type": "code",
   "execution_count": null,
   "metadata": {
    "collapsed": true
   },
   "outputs": [],
   "source": [
    "#another way to open a file to write but without having to close it\n",
    "with open('C:\\\\Data Science Projects\\\\JupyterNB\\\\test.txt','w') as file_temp:\n",
    "    file_temp.write('Testing with open method')\n"
   ]
  },
  {
   "cell_type": "code",
   "execution_count": null,
   "metadata": {},
   "outputs": [],
   "source": [
    "#testando o conhecimento e trabalhando com systema operacional\n",
    "import os\n",
    "\n",
    "os.getcwd()"
   ]
  },
  {
   "cell_type": "code",
   "execution_count": null,
   "metadata": {
    "collapsed": true
   },
   "outputs": [],
   "source": [
    "#list all the methods available in a library\n",
    "dir(os)"
   ]
  },
  {
   "cell_type": "code",
   "execution_count": null,
   "metadata": {
    "collapsed": true
   },
   "outputs": [],
   "source": [
    "import pandas\n",
    "dir(pandas)"
   ]
  },
  {
   "cell_type": "code",
   "execution_count": null,
   "metadata": {
    "collapsed": true
   },
   "outputs": [],
   "source": [
    "#here we will move the default directory to the root and create a new directory, move the pointer to the new \n",
    "# directory and create a new file and write to it\n",
    "os.chdir('c:\\\\')\n",
    "os.getcwd()\n",
    "os.mkdir('c:\\\\Testing Data Science OS')\n",
    "os.chdir('c:\\\\Testing Data Science OS')\n",
    "with open('Test_file.txt', 'w') as file_test:\n",
    "    file_test.write('testing work with the OS library')\n"
   ]
  },
  {
   "cell_type": "code",
   "execution_count": null,
   "metadata": {
    "collapsed": true
   },
   "outputs": [],
   "source": [
    "#lists all the files in a diretory\n",
    "os.listdir()"
   ]
  },
  {
   "cell_type": "code",
   "execution_count": null,
   "metadata": {
    "collapsed": true
   },
   "outputs": [],
   "source": [
    "#now we are going to remove a file from the current directory\n",
    "os.remove('Test_file - Copy.txt')\n"
   ]
  },
  {
   "cell_type": "code",
   "execution_count": null,
   "metadata": {
    "collapsed": true
   },
   "outputs": [],
   "source": [
    "os.rmdir('c:\\\\Testing Data Science OS')"
   ]
  },
  {
   "cell_type": "code",
   "execution_count": null,
   "metadata": {
    "collapsed": true
   },
   "outputs": [],
   "source": [
    "#lets work with paths\n",
    "os.path?"
   ]
  },
  {
   "cell_type": "code",
   "execution_count": null,
   "metadata": {},
   "outputs": [],
   "source": [
    "dir(os.path)"
   ]
  },
  {
   "cell_type": "code",
   "execution_count": null,
   "metadata": {},
   "outputs": [],
   "source": [
    "fullpath = 'C:\\\\Data Science Projects\\\\JupyterNB\\\\test.txt'\n",
    "file_test = os.path.basename(fullpath)\n",
    "print(file_test) "
   ]
  },
  {
   "cell_type": "code",
   "execution_count": null,
   "metadata": {},
   "outputs": [],
   "source": [
    "fullpath[-8:]"
   ]
  },
  {
   "cell_type": "code",
   "execution_count": null,
   "metadata": {},
   "outputs": [],
   "source": [
    "os.path.splitext(file_test)"
   ]
  },
  {
   "cell_type": "code",
   "execution_count": null,
   "metadata": {},
   "outputs": [],
   "source": [
    "os.path.splitext(file_test)[0]"
   ]
  },
  {
   "cell_type": "code",
   "execution_count": null,
   "metadata": {},
   "outputs": [],
   "source": [
    "os.path.splitext(file_test)[1]"
   ]
  },
  {
   "cell_type": "code",
   "execution_count": null,
   "metadata": {},
   "outputs": [],
   "source": [
    "os.path.exists(fullpath)"
   ]
  },
  {
   "cell_type": "code",
   "execution_count": null,
   "metadata": {
    "collapsed": true
   },
   "outputs": [],
   "source": [
    "os.rename(file_test,'test.scv')"
   ]
  },
  {
   "cell_type": "code",
   "execution_count": null,
   "metadata": {},
   "outputs": [],
   "source": [
    "os.rename('test.scv',file_test)\n",
    "os.path.exists(fullpath)"
   ]
  },
  {
   "cell_type": "code",
   "execution_count": null,
   "metadata": {
    "collapsed": true
   },
   "outputs": [],
   "source": [
    "#library to manipulate lists of files\n",
    "import glob"
   ]
  },
  {
   "cell_type": "code",
   "execution_count": null,
   "metadata": {
    "collapsed": true
   },
   "outputs": [],
   "source": [
    "os.chdir('C:\\\\Data Science Projects\\\\JupyterNB\\\\Iteracao')"
   ]
  },
  {
   "cell_type": "code",
   "execution_count": null,
   "metadata": {},
   "outputs": [],
   "source": [
    "os.listdir()"
   ]
  },
  {
   "cell_type": "code",
   "execution_count": null,
   "metadata": {},
   "outputs": [],
   "source": [
    "lst_files = glob.glob('*.csv')\n",
    "print(lst_files)"
   ]
  },
  {
   "cell_type": "code",
   "execution_count": null,
   "metadata": {},
   "outputs": [],
   "source": [
    "for filename in lst_files:\n",
    "    print(os.path.splitext(filename)[0])"
   ]
  }
 ],
 "metadata": {
  "kernelspec": {
   "display_name": "Python 3",
   "language": "python",
   "name": "python3"
  },
  "language_info": {
   "codemirror_mode": {
    "name": "ipython",
    "version": 3
   },
   "file_extension": ".py",
   "mimetype": "text/x-python",
   "name": "python",
   "nbconvert_exporter": "python",
   "pygments_lexer": "ipython3",
   "version": "3.6.1"
  }
 },
 "nbformat": 4,
 "nbformat_minor": 2
}
