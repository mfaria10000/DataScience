{
 "cells": [
  {
   "cell_type": "markdown",
   "metadata": {},
   "source": [
    "# INTRODUCTION AND CONCEPTS OF ANALITICS AND MACHINE LEARNING"
   ]
  },
  {
   "cell_type": "markdown",
   "metadata": {},
   "source": [
    "# STATISTICS FOR DATA ANALISYS AND MACHINE LEARNING"
   ]
  },
  {
   "cell_type": "markdown",
   "metadata": {},
   "source": [
    "## Statistics Technics\n",
    "#1) Classification\n",
    "#2) Time Series\n",
    "#3) Causal and Effect\n",
    "#4) Casual Analisys\n",
    "#5) Trust Intervals\n",
    "#6) Bias Analisys\n",
    "#7) Hipothesis Testing\n",
    "#8) Experiemental Design\n",
    "#9) Clustering\n",
    "#10) Regression\n",
    "#11) Dimentional \n",
    "\n"
   ]
  },
  {
   "cell_type": "markdown",
   "metadata": {},
   "source": [
    "# STATISTICS THREE PILLARS\n",
    "#1)Probability (Tells us the probability of an event tomhappen in the future with data from the past)\n",
    "#2)Descriptive Statistics (Describes the data or the sample data)\n",
    "#3)Inferential Statistics (Tries to guess the probability of and event to happen in the future with past and future (guessed) and data)\n",
    "\n"
   ]
  },
  {
   "cell_type": "markdown",
   "metadata": {},
   "source": [
    "# Statistics is a subset from mathematics that works with:\n",
    "#a) Colletion of data\n",
    "#b) Description of the data\n",
    "#c) Anaisys of the data\n",
    "#d) Presentation of the data\n",
    "#e) Intepretation of the data\n"
   ]
  },
  {
   "cell_type": "markdown",
   "metadata": {},
   "source": [
    "# ORGANIZATION AND PROGRESS OF THE DATA\n",
    "#OLTP - Normalized data (eliminate redundant data and reduce the storage of the data with eficiency generating information = organized data)\n",
    "#OLAP - Denormalized data (from OLAP we create DW and generate knowledge from the data storing in organized and related form)\n",
    "#DATA SCIENCE and MACHINE LEARNING - Data Tables with consolidated data"
   ]
  },
  {
   "cell_type": "markdown",
   "metadata": {},
   "source": [
    "# CLASSIFICATION OF THE DATA CAN BE\n",
    "#QUANTITATIVE (Numeric used in mathematica operations)\n",
    "    #a)Quantitative - Continue - can be franctioned, decimals and negative numbers\n",
    "    #b)Quantitative - Discrete - hole numbers\n",
    "#CATEGORICAL (Classify the data, does not express quaitity even when they are numbers ie. zip code)\n",
    "    #a) Categorical - Ordinal - express an order to be followed\n",
    "    #b) Categorical - Nominal - does not express any order, just classify the data "
   ]
  },
  {
   "cell_type": "markdown",
   "metadata": {},
   "source": [
    "# TYPES OF QUANTITATIVE DATA\n",
    "#1) Central Tendency Measures (mean, median,mode, bi-mode, amodal etc.)\n",
    "#2) Dispersion Measures (represents the variation of the data - variance, standard deviation and interquartile, range(min,max))\n",
    "#3) Data Forms (represents the ditribution of the data)\n",
    "#4) Outliers (the anusual measuments or data that differs from the majority of the data)"
   ]
  },
  {
   "cell_type": "markdown",
   "metadata": {},
   "source": [
    "# MEASUREMENTS FOR STATISTICS\n",
    "#a) Mean\n",
    "#b) Meadian\n",
    "#c) Standard Diviation\n",
    "#d) Variance and Variance Coeficient\n",
    "#e) Range"
   ]
  },
  {
   "cell_type": "code",
   "execution_count": null,
   "metadata": {
    "collapsed": true
   },
   "outputs": [],
   "source": []
  },
  {
   "cell_type": "code",
   "execution_count": null,
   "metadata": {
    "collapsed": true
   },
   "outputs": [],
   "source": []
  },
  {
   "cell_type": "code",
   "execution_count": null,
   "metadata": {
    "collapsed": true
   },
   "outputs": [],
   "source": []
  },
  {
   "cell_type": "code",
   "execution_count": null,
   "metadata": {
    "collapsed": true
   },
   "outputs": [],
   "source": []
  }
 ],
 "metadata": {
  "kernelspec": {
   "display_name": "Python 3",
   "language": "python",
   "name": "python3"
  },
  "language_info": {
   "codemirror_mode": {
    "name": "ipython",
    "version": 3
   },
   "file_extension": ".py",
   "mimetype": "text/x-python",
   "name": "python",
   "nbconvert_exporter": "python",
   "pygments_lexer": "ipython3",
   "version": "3.6.1"
  }
 },
 "nbformat": 4,
 "nbformat_minor": 2
}
